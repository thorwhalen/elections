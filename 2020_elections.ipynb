{
 "cells": [
  {
   "cell_type": "markdown",
   "metadata": {
    "toc": true
   },
   "source": [
    "<h1>Table of Contents<span class=\"tocSkip\"></span></h1>\n",
    "<div class=\"toc\"><ul class=\"toc-item\"><li><span><a href=\"#How-to-use\" data-toc-modified-id=\"How-to-use-1\"><span class=\"toc-item-num\">1&nbsp;&nbsp;</span>How to use</a></span><ul class=\"toc-item\"><li><span><a href=\"#President's-race-stats\" data-toc-modified-id=\"President's-race-stats-1.1\"><span class=\"toc-item-num\">1.1&nbsp;&nbsp;</span>President's race stats</a></span></li><li><span><a href=\"#Other-races\" data-toc-modified-id=\"Other-races-1.2\"><span class=\"toc-item-num\">1.2&nbsp;&nbsp;</span>Other races</a></span></li><li><span><a href=\"#Election2020RawJson\" data-toc-modified-id=\"Election2020RawJson-1.3\"><span class=\"toc-item-num\">1.3&nbsp;&nbsp;</span>Election2020RawJson</a></span></li></ul></li><li><span><a href=\"#How-I-got-there\" data-toc-modified-id=\"How-I-got-there-2\"><span class=\"toc-item-num\">2&nbsp;&nbsp;</span>How I got there</a></span><ul class=\"toc-item\"><li><span><a href=\"#Getting-the-state-stubs\" data-toc-modified-id=\"Getting-the-state-stubs-2.1\"><span class=\"toc-item-num\">2.1&nbsp;&nbsp;</span>Getting the state stubs</a></span></li><li><span><a href=\"#Getting-the-json\" data-toc-modified-id=\"Getting-the-json-2.2\"><span class=\"toc-item-num\">2.2&nbsp;&nbsp;</span>Getting the json</a></span></li></ul></li></ul></div>"
   ]
  },
  {
   "cell_type": "markdown",
   "metadata": {},
   "source": [
    "# How to use"
   ]
  },
  {
   "cell_type": "code",
   "execution_count": 5,
   "metadata": {
    "ExecuteTime": {
     "end_time": "2020-11-07T00:12:03.127486Z",
     "start_time": "2020-11-07T00:12:03.103279Z"
    }
   },
   "outputs": [],
   "source": [
    "import pandas as pd\n",
    "from elections import President2020TimeSeries, Races2020, Election2020RawJson\n"
   ]
  },
  {
   "cell_type": "markdown",
   "metadata": {},
   "source": [
    "## President's race stats"
   ]
  },
  {
   "cell_type": "code",
   "execution_count": 196,
   "metadata": {
    "ExecuteTime": {
     "end_time": "2020-11-06T23:47:35.318605Z",
     "start_time": "2020-11-06T23:47:35.288028Z"
    }
   },
   "outputs": [
    {
     "data": {
      "text/plain": [
       "51"
      ]
     },
     "execution_count": 196,
     "metadata": {},
     "output_type": "execute_result"
    }
   ],
   "source": [
    "s = President2020TimeSeries()\n",
    "len(s)"
   ]
  },
  {
   "cell_type": "markdown",
   "metadata": {},
   "source": [
    "`s` is a dictionary-like interface to the presidential race. \n",
    "\n",
    "It's keys are the states"
   ]
  },
  {
   "cell_type": "code",
   "execution_count": 197,
   "metadata": {
    "ExecuteTime": {
     "end_time": "2020-11-06T23:47:35.743289Z",
     "start_time": "2020-11-06T23:47:35.711669Z"
    }
   },
   "outputs": [
    {
     "name": "stdout",
     "output_type": "stream",
     "text": [
      "alabama alaska arizona arkansas california colorado connecticut delaware district-of-columbia florida georgia hawaii idaho illinois indiana iowa kansas kentucky louisiana maine maryland massachusetts michigan minnesota mississippi missouri montana nebraska nevada new-hampshire new-jersey new-mexico new-york north-carolina north-dakota ohio oklahoma oregon pennsylvania rhode-island south-carolina south-dakota tennessee texas utah vermont virginia washington west-virginia wisconsin wyoming\n"
     ]
    }
   ],
   "source": [
    "print(*s)"
   ]
  },
  {
   "cell_type": "markdown",
   "metadata": {},
   "source": [
    "It's values are dataframes containing the stats."
   ]
  },
  {
   "cell_type": "code",
   "execution_count": 198,
   "metadata": {
    "ExecuteTime": {
     "end_time": "2020-11-06T23:47:36.749244Z",
     "start_time": "2020-11-06T23:47:36.529340Z"
    }
   },
   "outputs": [
    {
     "data": {
      "text/html": [
       "<div>\n",
       "<style scoped>\n",
       "    .dataframe tbody tr th:only-of-type {\n",
       "        vertical-align: middle;\n",
       "    }\n",
       "\n",
       "    .dataframe tbody tr th {\n",
       "        vertical-align: top;\n",
       "    }\n",
       "\n",
       "    .dataframe thead th {\n",
       "        text-align: right;\n",
       "    }\n",
       "</style>\n",
       "<table border=\"1\" class=\"dataframe\">\n",
       "  <thead>\n",
       "    <tr style=\"text-align: right;\">\n",
       "      <th></th>\n",
       "      <th>votes</th>\n",
       "      <th>eevp</th>\n",
       "      <th>eevp_source</th>\n",
       "      <th>trumpd</th>\n",
       "      <th>bidenj</th>\n",
       "    </tr>\n",
       "    <tr>\n",
       "      <th>timestamp</th>\n",
       "      <th></th>\n",
       "      <th></th>\n",
       "      <th></th>\n",
       "      <th></th>\n",
       "      <th></th>\n",
       "    </tr>\n",
       "  </thead>\n",
       "  <tbody>\n",
       "    <tr>\n",
       "      <th>2020-11-04T09:23:03Z</th>\n",
       "      <td>0</td>\n",
       "      <td>0</td>\n",
       "      <td>edison</td>\n",
       "      <td>0.000</td>\n",
       "      <td>0.000</td>\n",
       "    </tr>\n",
       "    <tr>\n",
       "      <th>2020-11-04T00:14:11Z</th>\n",
       "      <td>408</td>\n",
       "      <td>0</td>\n",
       "      <td>edison</td>\n",
       "      <td>0.674</td>\n",
       "      <td>0.326</td>\n",
       "    </tr>\n",
       "    <tr>\n",
       "      <th>2020-11-04T00:15:51Z</th>\n",
       "      <td>127106</td>\n",
       "      <td>2</td>\n",
       "      <td>edison</td>\n",
       "      <td>0.370</td>\n",
       "      <td>0.618</td>\n",
       "    </tr>\n",
       "    <tr>\n",
       "      <th>2020-11-04T00:19:55Z</th>\n",
       "      <td>173638</td>\n",
       "      <td>3</td>\n",
       "      <td>edison</td>\n",
       "      <td>0.431</td>\n",
       "      <td>0.557</td>\n",
       "    </tr>\n",
       "    <tr>\n",
       "      <th>2020-11-04T00:21:57Z</th>\n",
       "      <td>174006</td>\n",
       "      <td>3</td>\n",
       "      <td>edison</td>\n",
       "      <td>0.432</td>\n",
       "      <td>0.557</td>\n",
       "    </tr>\n",
       "    <tr>\n",
       "      <th>...</th>\n",
       "      <td>...</td>\n",
       "      <td>...</td>\n",
       "      <td>...</td>\n",
       "      <td>...</td>\n",
       "      <td>...</td>\n",
       "    </tr>\n",
       "    <tr>\n",
       "      <th>2020-11-06T23:14:40Z</th>\n",
       "      <td>4969860</td>\n",
       "      <td>99</td>\n",
       "      <td>edison</td>\n",
       "      <td>0.493</td>\n",
       "      <td>0.494</td>\n",
       "    </tr>\n",
       "    <tr>\n",
       "      <th>2020-11-06T23:17:43Z</th>\n",
       "      <td>4969869</td>\n",
       "      <td>99</td>\n",
       "      <td>edison</td>\n",
       "      <td>0.493</td>\n",
       "      <td>0.494</td>\n",
       "    </tr>\n",
       "    <tr>\n",
       "      <th>2020-11-06T23:36:39Z</th>\n",
       "      <td>4969873</td>\n",
       "      <td>99</td>\n",
       "      <td>edison</td>\n",
       "      <td>0.493</td>\n",
       "      <td>0.494</td>\n",
       "    </tr>\n",
       "    <tr>\n",
       "      <th>2020-11-06T23:41:44Z</th>\n",
       "      <td>4969880</td>\n",
       "      <td>99</td>\n",
       "      <td>edison</td>\n",
       "      <td>0.493</td>\n",
       "      <td>0.494</td>\n",
       "    </tr>\n",
       "    <tr>\n",
       "      <th>2020-11-06T23:45:40Z</th>\n",
       "      <td>4970093</td>\n",
       "      <td>99</td>\n",
       "      <td>edison</td>\n",
       "      <td>0.493</td>\n",
       "      <td>0.494</td>\n",
       "    </tr>\n",
       "  </tbody>\n",
       "</table>\n",
       "<p>456 rows × 5 columns</p>\n",
       "</div>"
      ],
      "text/plain": [
       "                        votes  eevp eevp_source  trumpd  bidenj\n",
       "timestamp                                                      \n",
       "2020-11-04T09:23:03Z        0     0      edison   0.000   0.000\n",
       "2020-11-04T00:14:11Z      408     0      edison   0.674   0.326\n",
       "2020-11-04T00:15:51Z   127106     2      edison   0.370   0.618\n",
       "2020-11-04T00:19:55Z   173638     3      edison   0.431   0.557\n",
       "2020-11-04T00:21:57Z   174006     3      edison   0.432   0.557\n",
       "...                       ...   ...         ...     ...     ...\n",
       "2020-11-06T23:14:40Z  4969860    99      edison   0.493   0.494\n",
       "2020-11-06T23:17:43Z  4969869    99      edison   0.493   0.494\n",
       "2020-11-06T23:36:39Z  4969873    99      edison   0.493   0.494\n",
       "2020-11-06T23:41:44Z  4969880    99      edison   0.493   0.494\n",
       "2020-11-06T23:45:40Z  4970093    99      edison   0.493   0.494\n",
       "\n",
       "[456 rows x 5 columns]"
      ]
     },
     "execution_count": 198,
     "metadata": {},
     "output_type": "execute_result"
    }
   ],
   "source": [
    "state = 'georgia'\n",
    "df = s[state]\n",
    "df"
   ]
  },
  {
   "cell_type": "code",
   "execution_count": 199,
   "metadata": {
    "ExecuteTime": {
     "end_time": "2020-11-06T23:47:47.538169Z",
     "start_time": "2020-11-06T23:47:47.346172Z"
    }
   },
   "outputs": [
    {
     "data": {
      "image/png": "[encoded data removed]",
      "text/plain": [
       "<Figure size 1152x432 with 1 Axes>"
      ]
     },
     "metadata": {
      "needs_background": "light"
     },
     "output_type": "display_data"
    }
   ],
   "source": [
    "df['bidenj'].plot(figsize=(16, 6), grid=True, title=state);"
   ]
  },
  {
   "cell_type": "markdown",
   "metadata": {},
   "source": [
    "## Other races"
   ]
  },
  {
   "cell_type": "markdown",
   "metadata": {},
   "source": [
    "But that's not the only race going on here. "
   ]
  },
  {
   "cell_type": "code",
   "execution_count": 7,
   "metadata": {
    "ExecuteTime": {
     "end_time": "2020-11-07T00:17:09.027507Z",
     "start_time": "2020-11-07T00:17:09.002680Z"
    }
   },
   "outputs": [
    {
     "data": {
      "text/plain": [
       "51"
      ]
     },
     "execution_count": 7,
     "metadata": {},
     "output_type": "execute_result"
    }
   ],
   "source": [
    "s = Races2020()\n",
    "len(s)"
   ]
  },
  {
   "cell_type": "code",
   "execution_count": 8,
   "metadata": {
    "ExecuteTime": {
     "end_time": "2020-11-07T00:17:09.697894Z",
     "start_time": "2020-11-07T00:17:09.428995Z"
    }
   },
   "outputs": [
    {
     "name": "stdout",
     "output_type": "stream",
     "text": [
      "<class 'py2store.base.Store'>\n",
      "242 items... Here are the first 5:\n"
     ]
    },
    {
     "data": {
      "text/plain": [
       "['president-general-2020-11-03',\n",
       " 'house-general-district-001-2020-11-03',\n",
       " 'house-general-district-002-2020-11-03',\n",
       " 'house-general-district-003-2020-11-03',\n",
       " 'house-general-district-004-2020-11-03']"
      ]
     },
     "execution_count": 8,
     "metadata": {},
     "output_type": "execute_result"
    }
   ],
   "source": [
    "data = s['new-york']   # by the way, you can tab-complete this if you're working in a jupyter notebook\n",
    "print(type(data))\n",
    "print(f\"{len(data)} items... Here are the first 5:\")\n",
    "list(data)[:5]"
   ]
  },
  {
   "cell_type": "markdown",
   "metadata": {},
   "source": [
    "So we see that now, instead of just getting the president's race, we get... 242 races (one of which is the president's race). \n",
    "\n",
    "What you need to know, as well, is that `President2020TimeSeries` just gave you one of the many datas available for the race (the 'timeseries' one), extracted and formated for your convenience, since it's probably the main information you're here for. \n",
    "\n",
    "But there are other associated (raw) datas you may or may not be interested in. Here's what you got:"
   ]
  },
  {
   "cell_type": "code",
   "execution_count": 9,
   "metadata": {
    "ExecuteTime": {
     "end_time": "2020-11-07T00:17:10.502687Z",
     "start_time": "2020-11-07T00:17:10.478337Z"
    }
   },
   "outputs": [
    {
     "data": {
      "text/plain": [
       "dict_keys(['race_id', 'race_slug', 'url', 'state_page_url', 'ap_polls_page', 'edison_exit_polls_page', 'race_type', 'election_type', 'election_date', 'runoff', 'race_name', 'office', 'officeid', 'race_rating', 'seat', 'seat_name', 'state_id', 'state_slug', 'state_name', 'state_nyt_abbrev', 'state_shape', 'party_id', 'uncontested', 'report', 'result', 'result_source', 'gain', 'lost_seat', 'votes', 'electoral_votes', 'absentee_votes', 'absentee_counties', 'absentee_count_progress', 'absentee_outstanding', 'absentee_max_ballots', 'provisional_outstanding', 'provisional_count_progress', 'poll_display', 'poll_countdown_display', 'poll_waiting_display', 'poll_time', 'poll_time_short', 'precincts_reporting', 'precincts_total', 'reporting_display', 'reporting_value', 'eevp', 'tot_exp_vote', 'eevp_source', 'eevp_value', 'eevp_display', 'county_data_source', 'incumbent_party', 'no_forecast', 'last_updated', 'candidates', 'has_incumbent', 'leader_margin_value', 'leader_margin_votes', 'leader_margin_display', 'leader_margin_name_display', 'leader_party_id', 'counties', 'votes2016', 'margin2016', 'clinton2016', 'trump2016', 'votes2012', 'margin2012', 'expectations_text', 'expectations_text_short', 'absentee_ballot_deadline', 'absentee_postmark_deadline', 'update_sentences', 'race_diff', 'winnerCalledTimestamp', 'timeseries'])"
      ]
     },
     "execution_count": 9,
     "metadata": {},
     "output_type": "execute_result"
    }
   ],
   "source": [
    "data['president-general-2020-11-03'].keys()  # you can tab complete here as well (you're welcome!)"
   ]
  },
  {
   "cell_type": "code",
   "execution_count": 15,
   "metadata": {
    "ExecuteTime": {
     "end_time": "2020-11-07T00:20:04.589354Z",
     "start_time": "2020-11-07T00:20:04.563100Z"
    }
   },
   "outputs": [
    {
     "name": "stdout",
     "output_type": "stream",
     "text": [
      "2819534 4556124\n"
     ]
    }
   ],
   "source": [
    "t = data['president-general-2020-11-03']\n",
    "print(t['trump2016'], t['clinton2016'])"
   ]
  },
  {
   "cell_type": "markdown",
   "metadata": {},
   "source": [
    "## Election2020RawJson"
   ]
  },
  {
   "cell_type": "markdown",
   "metadata": {},
   "source": [
    "But if you want even more, and even more raw than the above, we can give that to you. \n",
    "\n",
    "With `Election2020RawJson` you get access to the original full json. "
   ]
  },
  {
   "cell_type": "code",
   "execution_count": 214,
   "metadata": {
    "ExecuteTime": {
     "end_time": "2020-11-06T23:53:54.136241Z",
     "start_time": "2020-11-06T23:53:53.902616Z"
    }
   },
   "outputs": [
    {
     "data": {
      "text/plain": [
       "dict_keys(['data', 'meta'])"
      ]
     },
     "execution_count": 214,
     "metadata": {},
     "output_type": "execute_result"
    }
   ],
   "source": [
    "raw_jsons = Election2020RawJson()\n",
    "json_data = raw_jsons['california']\n",
    "json_data.keys()"
   ]
  },
  {
   "cell_type": "code",
   "execution_count": 215,
   "metadata": {
    "ExecuteTime": {
     "end_time": "2020-11-06T23:53:59.024391Z",
     "start_time": "2020-11-06T23:53:58.994014Z"
    }
   },
   "outputs": [
    {
     "data": {
      "text/plain": [
       "{'version': 10403,\n",
       " 'track': '2020-11-03',\n",
       " 'timestamp': '2020-11-06T23:52:57.623Z'}"
      ]
     },
     "execution_count": 215,
     "metadata": {},
     "output_type": "execute_result"
    }
   ],
   "source": [
    "json_data['meta']"
   ]
  },
  {
   "cell_type": "code",
   "execution_count": 216,
   "metadata": {
    "ExecuteTime": {
     "end_time": "2020-11-06T23:54:04.772150Z",
     "start_time": "2020-11-06T23:54:04.740397Z"
    }
   },
   "outputs": [
    {
     "data": {
      "text/plain": [
       "dict_keys(['races', 'party_control', 'liveUpdates'])"
      ]
     },
     "execution_count": 216,
     "metadata": {},
     "output_type": "execute_result"
    }
   ],
   "source": [
    "json_data['data'].keys()"
   ]
  },
  {
   "cell_type": "code",
   "execution_count": 224,
   "metadata": {
    "ExecuteTime": {
     "end_time": "2020-11-06T23:55:15.911525Z",
     "start_time": "2020-11-06T23:55:15.866855Z"
    }
   },
   "outputs": [
    {
     "data": {
      "text/html": [
       "<div>\n",
       "<style scoped>\n",
       "    .dataframe tbody tr th:only-of-type {\n",
       "        vertical-align: middle;\n",
       "    }\n",
       "\n",
       "    .dataframe tbody tr th {\n",
       "        vertical-align: top;\n",
       "    }\n",
       "\n",
       "    .dataframe thead th {\n",
       "        text-align: right;\n",
       "    }\n",
       "</style>\n",
       "<table border=\"1\" class=\"dataframe\">\n",
       "  <thead>\n",
       "    <tr style=\"text-align: right;\">\n",
       "      <th>race_type</th>\n",
       "      <th>house</th>\n",
       "      <th>president</th>\n",
       "      <th>senate</th>\n",
       "    </tr>\n",
       "  </thead>\n",
       "  <tbody>\n",
       "    <tr>\n",
       "      <th>state_id</th>\n",
       "      <td></td>\n",
       "      <td></td>\n",
       "      <td></td>\n",
       "    </tr>\n",
       "    <tr>\n",
       "      <th>needed_for_control</th>\n",
       "      <td>218</td>\n",
       "      <td>270</td>\n",
       "      <td>50</td>\n",
       "    </tr>\n",
       "    <tr>\n",
       "      <th>total</th>\n",
       "      <td>435</td>\n",
       "      <td>538</td>\n",
       "      <td>100</td>\n",
       "    </tr>\n",
       "    <tr>\n",
       "      <th>no_election</th>\n",
       "      <td>{}</td>\n",
       "      <td>{}</td>\n",
       "      <td>{'democrat': 35, 'republican': 30, 'other': 0}</td>\n",
       "    </tr>\n",
       "    <tr>\n",
       "      <th>winner</th>\n",
       "      <td>False</td>\n",
       "      <td>False</td>\n",
       "      <td>False</td>\n",
       "    </tr>\n",
       "    <tr>\n",
       "      <th>parties</th>\n",
       "      <td>{'democrat': {'party_id': 'democrat', 'name_di...</td>\n",
       "      <td>{'democrat': {'party_id': 'democrat', 'name_di...</td>\n",
       "      <td>{'democrat': {'party_id': 'democrat', 'name_di...</td>\n",
       "    </tr>\n",
       "    <tr>\n",
       "      <th>winnerCalledTimestamp</th>\n",
       "      <td>None</td>\n",
       "      <td>None</td>\n",
       "      <td>None</td>\n",
       "    </tr>\n",
       "  </tbody>\n",
       "</table>\n",
       "</div>"
      ],
      "text/plain": [
       "race_type                                                          house  \\\n",
       "state_id                                                                   \n",
       "needed_for_control                                                   218   \n",
       "total                                                                435   \n",
       "no_election                                                           {}   \n",
       "winner                                                             False   \n",
       "parties                {'democrat': {'party_id': 'democrat', 'name_di...   \n",
       "winnerCalledTimestamp                                               None   \n",
       "\n",
       "race_type                                                      president  \\\n",
       "state_id                                                                   \n",
       "needed_for_control                                                   270   \n",
       "total                                                                538   \n",
       "no_election                                                           {}   \n",
       "winner                                                             False   \n",
       "parties                {'democrat': {'party_id': 'democrat', 'name_di...   \n",
       "winnerCalledTimestamp                                               None   \n",
       "\n",
       "race_type                                                         senate  \n",
       "state_id                                                                  \n",
       "needed_for_control                                                    50  \n",
       "total                                                                100  \n",
       "no_election               {'democrat': 35, 'republican': 30, 'other': 0}  \n",
       "winner                                                             False  \n",
       "parties                {'democrat': {'party_id': 'democrat', 'name_di...  \n",
       "winnerCalledTimestamp                                               None  "
      ]
     },
     "execution_count": 224,
     "metadata": {},
     "output_type": "execute_result"
    }
   ],
   "source": [
    "pd.DataFrame(json_data['data']['party_control']).set_index('race_type').T"
   ]
  },
  {
   "cell_type": "code",
   "execution_count": 225,
   "metadata": {
    "ExecuteTime": {
     "end_time": "2020-11-06T23:55:43.206420Z",
     "start_time": "2020-11-06T23:55:43.147033Z"
    }
   },
   "outputs": [
    {
     "data": {
      "text/html": [
       "<div>\n",
       "<style scoped>\n",
       "    .dataframe tbody tr th:only-of-type {\n",
       "        vertical-align: middle;\n",
       "    }\n",
       "\n",
       "    .dataframe tbody tr th {\n",
       "        vertical-align: top;\n",
       "    }\n",
       "\n",
       "    .dataframe thead th {\n",
       "        text-align: right;\n",
       "    }\n",
       "</style>\n",
       "<table border=\"1\" class=\"dataframe\">\n",
       "  <thead>\n",
       "    <tr style=\"text-align: right;\">\n",
       "      <th></th>\n",
       "      <th>id</th>\n",
       "      <th>author</th>\n",
       "      <th>author_title_or_location</th>\n",
       "      <th>text</th>\n",
       "      <th>link_url</th>\n",
       "      <th>link_text</th>\n",
       "      <th>linked_state_1</th>\n",
       "      <th>linked_state_2</th>\n",
       "      <th>linked_state_3</th>\n",
       "      <th>image_url</th>\n",
       "      <th>...</th>\n",
       "      <th>call_type</th>\n",
       "      <th>race_id</th>\n",
       "      <th>winner</th>\n",
       "      <th>party_id</th>\n",
       "      <th>candidate_last_name</th>\n",
       "      <th>candidate_name_display</th>\n",
       "      <th>candidate_id</th>\n",
       "      <th>race_call_party_winner</th>\n",
       "      <th>state_name</th>\n",
       "      <th>link</th>\n",
       "    </tr>\n",
       "  </thead>\n",
       "  <tbody>\n",
       "    <tr>\n",
       "      <th>0</th>\n",
       "      <td>333</td>\n",
       "      <td>Nate Cohn</td>\n",
       "      <td>in New York</td>\n",
       "      <td>New ballots from Clark County (that’s Las Vega...</td>\n",
       "      <td></td>\n",
       "      <td></td>\n",
       "      <td>NV</td>\n",
       "      <td></td>\n",
       "      <td></td>\n",
       "      <td></td>\n",
       "      <td>...</td>\n",
       "      <td>NaN</td>\n",
       "      <td>NaN</td>\n",
       "      <td>NaN</td>\n",
       "      <td>NaN</td>\n",
       "      <td>NaN</td>\n",
       "      <td>NaN</td>\n",
       "      <td>NaN</td>\n",
       "      <td>NaN</td>\n",
       "      <td>NaN</td>\n",
       "      <td>NaN</td>\n",
       "    </tr>\n",
       "    <tr>\n",
       "      <th>1</th>\n",
       "      <td>332</td>\n",
       "      <td>Nate Cohn</td>\n",
       "      <td>in New York</td>\n",
       "      <td>The latest Arizona ballot releases aren’t look...</td>\n",
       "      <td></td>\n",
       "      <td></td>\n",
       "      <td>AZ</td>\n",
       "      <td></td>\n",
       "      <td></td>\n",
       "      <td></td>\n",
       "      <td>...</td>\n",
       "      <td>NaN</td>\n",
       "      <td>NaN</td>\n",
       "      <td>NaN</td>\n",
       "      <td>NaN</td>\n",
       "      <td>NaN</td>\n",
       "      <td>NaN</td>\n",
       "      <td>NaN</td>\n",
       "      <td>NaN</td>\n",
       "      <td>NaN</td>\n",
       "      <td>NaN</td>\n",
       "    </tr>\n",
       "    <tr>\n",
       "      <th>2</th>\n",
       "      <td>331</td>\n",
       "      <td>Nick Corasaniti</td>\n",
       "      <td>in Philadelphia</td>\n",
       "      <td>There are still 102,000 mail ballots to be cou...</td>\n",
       "      <td></td>\n",
       "      <td></td>\n",
       "      <td>PA</td>\n",
       "      <td></td>\n",
       "      <td></td>\n",
       "      <td></td>\n",
       "      <td>...</td>\n",
       "      <td>NaN</td>\n",
       "      <td>NaN</td>\n",
       "      <td>NaN</td>\n",
       "      <td>NaN</td>\n",
       "      <td>NaN</td>\n",
       "      <td>NaN</td>\n",
       "      <td>NaN</td>\n",
       "      <td>NaN</td>\n",
       "      <td>NaN</td>\n",
       "      <td>NaN</td>\n",
       "    </tr>\n",
       "    <tr>\n",
       "      <th>3</th>\n",
       "      <td>330</td>\n",
       "      <td>Dave Philipps</td>\n",
       "      <td>in Las Vegas</td>\n",
       "      <td>Biden nets 2,520 votes in the Las Vegas area, ...</td>\n",
       "      <td></td>\n",
       "      <td></td>\n",
       "      <td>NV</td>\n",
       "      <td></td>\n",
       "      <td></td>\n",
       "      <td></td>\n",
       "      <td>...</td>\n",
       "      <td>NaN</td>\n",
       "      <td>NaN</td>\n",
       "      <td>NaN</td>\n",
       "      <td>NaN</td>\n",
       "      <td>NaN</td>\n",
       "      <td>NaN</td>\n",
       "      <td>NaN</td>\n",
       "      <td>NaN</td>\n",
       "      <td>NaN</td>\n",
       "      <td>NaN</td>\n",
       "    </tr>\n",
       "    <tr>\n",
       "      <th>4</th>\n",
       "      <td>329</td>\n",
       "      <td>Katie Glueck</td>\n",
       "      <td>in Wilmington, Del.</td>\n",
       "      <td>I’m told Biden spent the day watching election...</td>\n",
       "      <td></td>\n",
       "      <td></td>\n",
       "      <td></td>\n",
       "      <td></td>\n",
       "      <td></td>\n",
       "      <td></td>\n",
       "      <td>...</td>\n",
       "      <td>NaN</td>\n",
       "      <td>NaN</td>\n",
       "      <td>NaN</td>\n",
       "      <td>NaN</td>\n",
       "      <td>NaN</td>\n",
       "      <td>NaN</td>\n",
       "      <td>NaN</td>\n",
       "      <td>NaN</td>\n",
       "      <td>NaN</td>\n",
       "      <td>NaN</td>\n",
       "    </tr>\n",
       "    <tr>\n",
       "      <th>...</th>\n",
       "      <td>...</td>\n",
       "      <td>...</td>\n",
       "      <td>...</td>\n",
       "      <td>...</td>\n",
       "      <td>...</td>\n",
       "      <td>...</td>\n",
       "      <td>...</td>\n",
       "      <td>...</td>\n",
       "      <td>...</td>\n",
       "      <td>...</td>\n",
       "      <td>...</td>\n",
       "      <td>...</td>\n",
       "      <td>...</td>\n",
       "      <td>...</td>\n",
       "      <td>...</td>\n",
       "      <td>...</td>\n",
       "      <td>...</td>\n",
       "      <td>...</td>\n",
       "      <td>...</td>\n",
       "      <td>...</td>\n",
       "      <td>...</td>\n",
       "    </tr>\n",
       "    <tr>\n",
       "      <th>444</th>\n",
       "      <td>5</td>\n",
       "      <td>Nate Cohn</td>\n",
       "      <td>in New York</td>\n",
       "      <td>Tonight, the needle will be back — sort of. We...</td>\n",
       "      <td>https://www.nytimes.com/2020/11/02/upshot/need...</td>\n",
       "      <td>Learn more about the needle</td>\n",
       "      <td></td>\n",
       "      <td></td>\n",
       "      <td></td>\n",
       "      <td></td>\n",
       "      <td>...</td>\n",
       "      <td>NaN</td>\n",
       "      <td>NaN</td>\n",
       "      <td>NaN</td>\n",
       "      <td>NaN</td>\n",
       "      <td>NaN</td>\n",
       "      <td>NaN</td>\n",
       "      <td>NaN</td>\n",
       "      <td>NaN</td>\n",
       "      <td>NaN</td>\n",
       "      <td>NaN</td>\n",
       "    </tr>\n",
       "    <tr>\n",
       "      <th>445</th>\n",
       "      <td>4</td>\n",
       "      <td>Sheera Frenkel</td>\n",
       "      <td>in Silicon Valley</td>\n",
       "      <td>Times tech reporters will be monitoring for mi...</td>\n",
       "      <td></td>\n",
       "      <td></td>\n",
       "      <td></td>\n",
       "      <td></td>\n",
       "      <td></td>\n",
       "      <td></td>\n",
       "      <td>...</td>\n",
       "      <td>NaN</td>\n",
       "      <td>NaN</td>\n",
       "      <td>NaN</td>\n",
       "      <td>NaN</td>\n",
       "      <td>NaN</td>\n",
       "      <td>NaN</td>\n",
       "      <td>NaN</td>\n",
       "      <td>NaN</td>\n",
       "      <td>NaN</td>\n",
       "      <td>NaN</td>\n",
       "    </tr>\n",
       "    <tr>\n",
       "      <th>446</th>\n",
       "      <td>3</td>\n",
       "      <td>Michael Barbaro</td>\n",
       "      <td>in New York</td>\n",
       "      <td>From 4 p.m. to 8 p.m. Eastern time, we’ll be t...</td>\n",
       "      <td>https://nytimes.com/thedaily</td>\n",
       "      <td>Listen here</td>\n",
       "      <td></td>\n",
       "      <td></td>\n",
       "      <td></td>\n",
       "      <td></td>\n",
       "      <td>...</td>\n",
       "      <td>NaN</td>\n",
       "      <td>NaN</td>\n",
       "      <td>NaN</td>\n",
       "      <td>NaN</td>\n",
       "      <td>NaN</td>\n",
       "      <td>NaN</td>\n",
       "      <td>NaN</td>\n",
       "      <td>NaN</td>\n",
       "      <td>NaN</td>\n",
       "      <td>NaN</td>\n",
       "    </tr>\n",
       "    <tr>\n",
       "      <th>447</th>\n",
       "      <td>2</td>\n",
       "      <td>Trip Gabriel</td>\n",
       "      <td>in Butler County, Pa.</td>\n",
       "      <td>A look at Trump and the G.O.P.’s closing strat...</td>\n",
       "      <td>https://www.nytimes.com/2020/11/02/us/politics...</td>\n",
       "      <td></td>\n",
       "      <td></td>\n",
       "      <td></td>\n",
       "      <td></td>\n",
       "      <td></td>\n",
       "      <td>...</td>\n",
       "      <td>NaN</td>\n",
       "      <td>NaN</td>\n",
       "      <td>NaN</td>\n",
       "      <td>NaN</td>\n",
       "      <td>NaN</td>\n",
       "      <td>NaN</td>\n",
       "      <td>NaN</td>\n",
       "      <td>NaN</td>\n",
       "      <td>NaN</td>\n",
       "      <td>NaN</td>\n",
       "    </tr>\n",
       "    <tr>\n",
       "      <th>448</th>\n",
       "      <td>1</td>\n",
       "      <td>Shane Goldmacher</td>\n",
       "      <td>in New Hope, Pa.</td>\n",
       "      <td>Here’s our recap of the final day of campaigni...</td>\n",
       "      <td>https://www.nytimes.com/2020/11/02/us/politics...</td>\n",
       "      <td></td>\n",
       "      <td></td>\n",
       "      <td></td>\n",
       "      <td></td>\n",
       "      <td></td>\n",
       "      <td>...</td>\n",
       "      <td>NaN</td>\n",
       "      <td>NaN</td>\n",
       "      <td>NaN</td>\n",
       "      <td>NaN</td>\n",
       "      <td>NaN</td>\n",
       "      <td>NaN</td>\n",
       "      <td>NaN</td>\n",
       "      <td>NaN</td>\n",
       "      <td>NaN</td>\n",
       "      <td>NaN</td>\n",
       "    </tr>\n",
       "  </tbody>\n",
       "</table>\n",
       "<p>449 rows × 31 columns</p>\n",
       "</div>"
      ],
      "text/plain": [
       "      id            author author_title_or_location  \\\n",
       "0    333         Nate Cohn              in New York   \n",
       "1    332         Nate Cohn              in New York   \n",
       "2    331   Nick Corasaniti          in Philadelphia   \n",
       "3    330     Dave Philipps             in Las Vegas   \n",
       "4    329      Katie Glueck      in Wilmington, Del.   \n",
       "..   ...               ...                      ...   \n",
       "444    5         Nate Cohn              in New York   \n",
       "445    4    Sheera Frenkel        in Silicon Valley   \n",
       "446    3   Michael Barbaro              in New York   \n",
       "447    2      Trip Gabriel    in Butler County, Pa.   \n",
       "448    1  Shane Goldmacher         in New Hope, Pa.   \n",
       "\n",
       "                                                  text  \\\n",
       "0    New ballots from Clark County (that’s Las Vega...   \n",
       "1    The latest Arizona ballot releases aren’t look...   \n",
       "2    There are still 102,000 mail ballots to be cou...   \n",
       "3    Biden nets 2,520 votes in the Las Vegas area, ...   \n",
       "4    I’m told Biden spent the day watching election...   \n",
       "..                                                 ...   \n",
       "444  Tonight, the needle will be back — sort of. We...   \n",
       "445  Times tech reporters will be monitoring for mi...   \n",
       "446  From 4 p.m. to 8 p.m. Eastern time, we’ll be t...   \n",
       "447  A look at Trump and the G.O.P.’s closing strat...   \n",
       "448  Here’s our recap of the final day of campaigni...   \n",
       "\n",
       "                                              link_url  \\\n",
       "0                                                        \n",
       "1                                                        \n",
       "2                                                        \n",
       "3                                                        \n",
       "4                                                        \n",
       "..                                                 ...   \n",
       "444  https://www.nytimes.com/2020/11/02/upshot/need...   \n",
       "445                                                      \n",
       "446                       https://nytimes.com/thedaily   \n",
       "447  https://www.nytimes.com/2020/11/02/us/politics...   \n",
       "448  https://www.nytimes.com/2020/11/02/us/politics...   \n",
       "\n",
       "                       link_text linked_state_1 linked_state_2 linked_state_3  \\\n",
       "0                                            NV                                 \n",
       "1                                            AZ                                 \n",
       "2                                            PA                                 \n",
       "3                                            NV                                 \n",
       "4                                                                               \n",
       "..                           ...            ...            ...            ...   \n",
       "444  Learn more about the needle                                                \n",
       "445                                                                             \n",
       "446                  Listen here                                                \n",
       "447                                                                             \n",
       "448                                                                             \n",
       "\n",
       "    image_url  ... call_type  race_id winner  party_id candidate_last_name  \\\n",
       "0              ...       NaN      NaN    NaN       NaN                 NaN   \n",
       "1              ...       NaN      NaN    NaN       NaN                 NaN   \n",
       "2              ...       NaN      NaN    NaN       NaN                 NaN   \n",
       "3              ...       NaN      NaN    NaN       NaN                 NaN   \n",
       "4              ...       NaN      NaN    NaN       NaN                 NaN   \n",
       "..        ...  ...       ...      ...    ...       ...                 ...   \n",
       "444            ...       NaN      NaN    NaN       NaN                 NaN   \n",
       "445            ...       NaN      NaN    NaN       NaN                 NaN   \n",
       "446            ...       NaN      NaN    NaN       NaN                 NaN   \n",
       "447            ...       NaN      NaN    NaN       NaN                 NaN   \n",
       "448            ...       NaN      NaN    NaN       NaN                 NaN   \n",
       "\n",
       "    candidate_name_display candidate_id race_call_party_winner state_name link  \n",
       "0                      NaN          NaN                    NaN        NaN  NaN  \n",
       "1                      NaN          NaN                    NaN        NaN  NaN  \n",
       "2                      NaN          NaN                    NaN        NaN  NaN  \n",
       "3                      NaN          NaN                    NaN        NaN  NaN  \n",
       "4                      NaN          NaN                    NaN        NaN  NaN  \n",
       "..                     ...          ...                    ...        ...  ...  \n",
       "444                    NaN          NaN                    NaN        NaN  NaN  \n",
       "445                    NaN          NaN                    NaN        NaN  NaN  \n",
       "446                    NaN          NaN                    NaN        NaN  NaN  \n",
       "447                    NaN          NaN                    NaN        NaN  NaN  \n",
       "448                    NaN          NaN                    NaN        NaN  NaN  \n",
       "\n",
       "[449 rows x 31 columns]"
      ]
     },
     "execution_count": 225,
     "metadata": {},
     "output_type": "execute_result"
    }
   ],
   "source": [
    "pd.DataFrame(json_data['data']['liveUpdates'])"
   ]
  },
  {
   "cell_type": "code",
   "execution_count": null,
   "metadata": {},
   "outputs": [],
   "source": []
  },
  {
   "cell_type": "code",
   "execution_count": null,
   "metadata": {},
   "outputs": [],
   "source": []
  },
  {
   "cell_type": "markdown",
   "metadata": {},
   "source": [
    "# How I got there"
   ]
  },
  {
   "cell_type": "markdown",
   "metadata": {},
   "source": [
    "## Getting the state stubs"
   ]
  },
  {
   "cell_type": "code",
   "execution_count": 80,
   "metadata": {
    "ExecuteTime": {
     "end_time": "2020-11-06T22:42:23.047648Z",
     "start_time": "2020-11-06T22:42:23.023586Z"
    }
   },
   "outputs": [],
   "source": [
    "import re\n",
    "t = '\"<select class=\"e-hp-nav-item\"> <option value=\"\" selected=\"selected\">Select a state</option> <option value=\"https://www.nytimes.com/interactive/2020/11/03/us/elections/results-alabama.html\"> Alabama </option> <option value=\"https://www.nytimes.com/interactive/2020/11/03/us/elections/results-alaska.html\"> Alaska </option> <option value=\"https://www.nytimes.com/interactive/2020/11/03/us/elections/results-arizona.html\"> Arizona </option> <option value=\"https://www.nytimes.com/interactive/2020/11/03/us/elections/results-arkansas.html\"> Arkansas </option> <option value=\"https://www.nytimes.com/interactive/2020/11/03/us/elections/results-california.html\"> California </option> <option value=\"https://www.nytimes.com/interactive/2020/11/03/us/elections/results-colorado.html\"> Colorado </option> <option value=\"https://www.nytimes.com/interactive/2020/11/03/us/elections/results-connecticut.html\"> Connecticut </option> <option value=\"https://www.nytimes.com/interactive/2020/11/03/us/elections/results-delaware.html\"> Delaware </option> <option value=\"https://www.nytimes.com/interactive/2020/11/03/us/elections/results-district-of-columbia.html\"> District of Columbia </option> <option value=\"https://www.nytimes.com/interactive/2020/11/03/us/elections/results-florida.html\"> Florida </option> <option value=\"https://www.nytimes.com/interactive/2020/11/03/us/elections/results-georgia.html\"> Georgia </option> <option value=\"https://www.nytimes.com/interactive/2020/11/03/us/elections/results-hawaii.html\"> Hawaii </option> <option value=\"https://www.nytimes.com/interactive/2020/11/03/us/elections/results-idaho.html\"> Idaho </option> <option value=\"https://www.nytimes.com/interactive/2020/11/03/us/elections/results-illinois.html\"> Illinois </option> <option value=\"https://www.nytimes.com/interactive/2020/11/03/us/elections/results-indiana.html\"> Indiana </option> <option value=\"https://www.nytimes.com/interactive/2020/11/03/us/elections/results-iowa.html\"> Iowa </option> <option value=\"https://www.nytimes.com/interactive/2020/11/03/us/elections/results-kansas.html\"> Kansas </option> <option value=\"https://www.nytimes.com/interactive/2020/11/03/us/elections/results-kentucky.html\"> Kentucky </option> <option value=\"https://www.nytimes.com/interactive/2020/11/03/us/elections/results-louisiana.html\"> Louisiana </option> <option value=\"https://www.nytimes.com/interactive/2020/11/03/us/elections/results-maine.html\"> Maine </option> <option value=\"https://www.nytimes.com/interactive/2020/11/03/us/elections/results-maryland.html\"> Maryland </option> <option value=\"https://www.nytimes.com/interactive/2020/11/03/us/elections/results-massachusetts.html\"> Massachusetts </option> <option value=\"https://www.nytimes.com/interactive/2020/11/03/us/elections/results-michigan.html\"> Michigan </option> <option value=\"https://www.nytimes.com/interactive/2020/11/03/us/elections/results-minnesota.html\"> Minnesota </option> <option value=\"https://www.nytimes.com/interactive/2020/11/03/us/elections/results-mississippi.html\"> Mississippi </option> <option value=\"https://www.nytimes.com/interactive/2020/11/03/us/elections/results-missouri.html\"> Missouri </option> <option value=\"https://www.nytimes.com/interactive/2020/11/03/us/elections/results-montana.html\"> Montana </option> <option value=\"https://www.nytimes.com/interactive/2020/11/03/us/elections/results-nebraska.html\"> Nebraska </option> <option value=\"https://www.nytimes.com/interactive/2020/11/03/us/elections/results-nevada.html\"> Nevada </option> <option value=\"https://www.nytimes.com/interactive/2020/11/03/us/elections/results-new-hampshire.html\"> New Hampshire </option> <option value=\"https://www.nytimes.com/interactive/2020/11/03/us/elections/results-new-jersey.html\"> New Jersey </option> <option value=\"https://www.nytimes.com/interactive/2020/11/03/us/elections/results-new-mexico.html\"> New Mexico </option> <option value=\"https://www.nytimes.com/interactive/2020/11/03/us/elections/results-new-york.html\"> New York </option> <option value=\"https://www.nytimes.com/interactive/2020/11/03/us/elections/results-north-carolina.html\"> North Carolina </option> <option value=\"https://www.nytimes.com/interactive/2020/11/03/us/elections/results-north-dakota.html\"> North Dakota </option> <option value=\"https://www.nytimes.com/interactive/2020/11/03/us/elections/results-ohio.html\"> Ohio </option> <option value=\"https://www.nytimes.com/interactive/2020/11/03/us/elections/results-oklahoma.html\"> Oklahoma </option> <option value=\"https://www.nytimes.com/interactive/2020/11/03/us/elections/results-oregon.html\"> Oregon </option> <option value=\"https://www.nytimes.com/interactive/2020/11/03/us/elections/results-pennsylvania.html\"> Pennsylvania </option> <option value=\"https://www.nytimes.com/interactive/2020/11/03/us/elections/results-rhode-island.html\"> Rhode Island </option> <option value=\"https://www.nytimes.com/interactive/2020/11/03/us/elections/results-south-carolina.html\"> South Carolina </option> <option value=\"https://www.nytimes.com/interactive/2020/11/03/us/elections/results-south-dakota.html\"> South Dakota </option> <option value=\"https://www.nytimes.com/interactive/2020/11/03/us/elections/results-tennessee.html\"> Tennessee </option> <option value=\"https://www.nytimes.com/interactive/2020/11/03/us/elections/results-texas.html\"> Texas </option> <option value=\"https://www.nytimes.com/interactive/2020/11/03/us/elections/results-utah.html\"> Utah </option> <option value=\"https://www.nytimes.com/interactive/2020/11/03/us/elections/results-vermont.html\"> Vermont </option> <option value=\"https://www.nytimes.com/interactive/2020/11/03/us/elections/results-virginia.html\"> Virginia </option> <option value=\"https://www.nytimes.com/interactive/2020/11/03/us/elections/results-washington.html\"> Washington </option> <option value=\"https://www.nytimes.com/interactive/2020/11/03/us/elections/results-west-virginia.html\"> West Virginia </option> <option value=\"https://www.nytimes.com/interactive/2020/11/03/us/elections/results-wisconsin.html\"> Wisconsin </option> <option value=\"https://www.nytimes.com/interactive/2020/11/03/us/elections/results-wyoming.html\"> Wyoming </option> </select>\"'\n",
    "\n",
    "state_stubs = re.findall('us/elections/results-([\\w-]+).html', t)\n"
   ]
  },
  {
   "cell_type": "code",
   "execution_count": 84,
   "metadata": {
    "ExecuteTime": {
     "end_time": "2020-11-06T22:43:45.439488Z",
     "start_time": "2020-11-06T22:43:45.414377Z"
    }
   },
   "outputs": [
    {
     "name": "stdout",
     "output_type": "stream",
     "text": [
      "'alabama', 'alaska', 'arizona', 'arkansas', 'california', 'colorado', 'connecticut', 'delaware', 'district-of-columbia', 'florida', 'georgia', 'hawaii', 'idaho', 'illinois', 'indiana', 'iowa', 'kansas', 'kentucky', 'louisiana', 'maine', 'maryland', 'massachusetts', 'michigan', 'minnesota', 'mississippi', 'missouri', 'montana', 'nebraska', 'nevada', 'new-hampshire', 'new-jersey', 'new-mexico', 'new-york', 'north-carolina', 'north-dakota', 'ohio', 'oklahoma', 'oregon', 'pennsylvania', 'rhode-island', 'south-carolina', 'south-dakota', 'tennessee', 'texas', 'utah', 'vermont', 'virginia', 'washington', 'west-virginia', 'wisconsin', 'wyoming'\n"
     ]
    }
   ],
   "source": [
    "print(*(f\"'{x}'\" for x in state_stubs), sep=', ')"
   ]
  },
  {
   "cell_type": "code",
   "execution_count": 85,
   "metadata": {
    "ExecuteTime": {
     "end_time": "2020-11-06T22:44:14.324936Z",
     "start_time": "2020-11-06T22:44:14.298949Z"
    }
   },
   "outputs": [],
   "source": [
    "state_stubs = ['alabama', 'alaska', 'arizona', 'arkansas', 'california', 'colorado', \n",
    "               'connecticut', 'delaware', 'district-of-columbia', 'florida', 'georgia', \n",
    "               'hawaii', 'idaho', 'illinois', 'indiana', 'iowa', 'kansas', 'kentucky', \n",
    "               'louisiana', 'maine', 'maryland', 'massachusetts', 'michigan', 'minnesota', \n",
    "               'mississippi', 'missouri', 'montana', 'nebraska', 'nevada', 'new-hampshire', \n",
    "               'new-jersey', 'new-mexico', 'new-york', 'north-carolina', 'north-dakota', 'ohio', \n",
    "               'oklahoma', 'oregon', 'pennsylvania', 'rhode-island', 'south-carolina', 'south-dakota', \n",
    "               'tennessee', 'texas', 'utah', 'vermont', 'virginia', 'washington', 'west-virginia', \n",
    "               'wisconsin', 'wyoming']"
   ]
  },
  {
   "cell_type": "markdown",
   "metadata": {},
   "source": [
    "## Getting the json"
   ]
  },
  {
   "cell_type": "code",
   "execution_count": 89,
   "metadata": {
    "ExecuteTime": {
     "end_time": "2020-11-06T22:46:40.812085Z",
     "start_time": "2020-11-06T22:46:40.454294Z"
    }
   },
   "outputs": [
    {
     "data": {
      "text/plain": [
       "dict_keys(['data', 'meta'])"
      ]
     },
     "execution_count": 89,
     "metadata": {},
     "output_type": "execute_result"
    }
   ],
   "source": [
    "data = get_json_for_state('new-york')\n",
    "data.keys()"
   ]
  },
  {
   "cell_type": "code",
   "execution_count": 90,
   "metadata": {
    "ExecuteTime": {
     "end_time": "2020-11-06T22:46:45.070501Z",
     "start_time": "2020-11-06T22:46:45.046443Z"
    }
   },
   "outputs": [
    {
     "data": {
      "text/plain": [
       "{'version': 10197,\n",
       " 'track': '2020-11-03',\n",
       " 'timestamp': '2020-11-06T22:45:58.501Z'}"
      ]
     },
     "execution_count": 90,
     "metadata": {},
     "output_type": "execute_result"
    }
   ],
   "source": [
    "data['meta']"
   ]
  },
  {
   "cell_type": "code",
   "execution_count": 91,
   "metadata": {
    "ExecuteTime": {
     "end_time": "2020-11-06T22:46:49.090649Z",
     "start_time": "2020-11-06T22:46:49.066437Z"
    }
   },
   "outputs": [
    {
     "data": {
      "text/plain": [
       "dict_keys(['races', 'party_control', 'liveUpdates'])"
      ]
     },
     "execution_count": 91,
     "metadata": {},
     "output_type": "execute_result"
    }
   ],
   "source": [
    "data['data'].keys()"
   ]
  },
  {
   "cell_type": "code",
   "execution_count": 97,
   "metadata": {
    "ExecuteTime": {
     "end_time": "2020-11-06T22:50:57.524533Z",
     "start_time": "2020-11-06T22:50:57.495695Z"
    }
   },
   "outputs": [
    {
     "data": {
      "text/plain": [
       "{'ny-boro-pres-queens-general-district-004-2020-11-03',\n",
       " 'ny-house-general-district-001-2020-11-03',\n",
       " 'ny-house-general-district-002-2020-11-03',\n",
       " 'ny-house-general-district-003-2020-11-03',\n",
       " 'ny-house-general-district-004-2020-11-03',\n",
       " 'ny-house-general-district-005-2020-11-03',\n",
       " 'ny-house-general-district-006-2020-11-03',\n",
       " 'ny-house-general-district-007-2020-11-03',\n",
       " 'ny-house-general-district-008-2020-11-03',\n",
       " 'ny-house-general-district-009-2020-11-03',\n",
       " 'ny-house-general-district-010-2020-11-03',\n",
       " 'ny-house-general-district-011-2020-11-03',\n",
       " 'ny-house-general-district-012-2020-11-03',\n",
       " 'ny-house-general-district-013-2020-11-03',\n",
       " 'ny-house-general-district-014-2020-11-03',\n",
       " 'ny-house-general-district-015-2020-11-03',\n",
       " 'ny-house-general-district-016-2020-11-03',\n",
       " 'ny-house-general-district-017-2020-11-03',\n",
       " 'ny-house-general-district-018-2020-11-03',\n",
       " 'ny-house-general-district-019-2020-11-03',\n",
       " 'ny-house-general-district-020-2020-11-03',\n",
       " 'ny-house-general-district-021-2020-11-03',\n",
       " 'ny-house-general-district-022-2020-11-03',\n",
       " 'ny-house-general-district-023-2020-11-03',\n",
       " 'ny-house-general-district-024-2020-11-03',\n",
       " 'ny-house-general-district-025-2020-11-03',\n",
       " 'ny-house-general-district-026-2020-11-03',\n",
       " 'ny-house-general-district-027-2020-11-03',\n",
       " 'ny-president-general-2020-11-03',\n",
       " 'ny-state-house-general-district-001-2020-11-03',\n",
       " 'ny-state-house-general-district-002-2020-11-03',\n",
       " 'ny-state-house-general-district-003-2020-11-03',\n",
       " 'ny-state-house-general-district-004-2020-11-03',\n",
       " 'ny-state-house-general-district-005-2020-11-03',\n",
       " 'ny-state-house-general-district-006-2020-11-03',\n",
       " 'ny-state-house-general-district-007-2020-11-03',\n",
       " 'ny-state-house-general-district-008-2020-11-03',\n",
       " 'ny-state-house-general-district-009-2020-11-03',\n",
       " 'ny-state-house-general-district-010-2020-11-03',\n",
       " 'ny-state-house-general-district-011-2020-11-03',\n",
       " 'ny-state-house-general-district-012-2020-11-03',\n",
       " 'ny-state-house-general-district-013-2020-11-03',\n",
       " 'ny-state-house-general-district-014-2020-11-03',\n",
       " 'ny-state-house-general-district-015-2020-11-03',\n",
       " 'ny-state-house-general-district-016-2020-11-03',\n",
       " 'ny-state-house-general-district-017-2020-11-03',\n",
       " 'ny-state-house-general-district-018-2020-11-03',\n",
       " 'ny-state-house-general-district-019-2020-11-03',\n",
       " 'ny-state-house-general-district-020-2020-11-03',\n",
       " 'ny-state-house-general-district-021-2020-11-03',\n",
       " 'ny-state-house-general-district-022-2020-11-03',\n",
       " 'ny-state-house-general-district-023-2020-11-03',\n",
       " 'ny-state-house-general-district-024-2020-11-03',\n",
       " 'ny-state-house-general-district-025-2020-11-03',\n",
       " 'ny-state-house-general-district-026-2020-11-03',\n",
       " 'ny-state-house-general-district-027-2020-11-03',\n",
       " 'ny-state-house-general-district-028-2020-11-03',\n",
       " 'ny-state-house-general-district-029-2020-11-03',\n",
       " 'ny-state-house-general-district-030-2020-11-03',\n",
       " 'ny-state-house-general-district-031-2020-11-03',\n",
       " 'ny-state-house-general-district-032-2020-11-03',\n",
       " 'ny-state-house-general-district-033-2020-11-03',\n",
       " 'ny-state-house-general-district-034-2020-11-03',\n",
       " 'ny-state-house-general-district-035-2020-11-03',\n",
       " 'ny-state-house-general-district-036-2020-11-03',\n",
       " 'ny-state-house-general-district-037-2020-11-03',\n",
       " 'ny-state-house-general-district-038-2020-11-03',\n",
       " 'ny-state-house-general-district-039-2020-11-03',\n",
       " 'ny-state-house-general-district-040-2020-11-03',\n",
       " 'ny-state-house-general-district-041-2020-11-03',\n",
       " 'ny-state-house-general-district-042-2020-11-03',\n",
       " 'ny-state-house-general-district-043-2020-11-03',\n",
       " 'ny-state-house-general-district-044-2020-11-03',\n",
       " 'ny-state-house-general-district-045-2020-11-03',\n",
       " 'ny-state-house-general-district-046-2020-11-03',\n",
       " 'ny-state-house-general-district-047-2020-11-03',\n",
       " 'ny-state-house-general-district-048-2020-11-03',\n",
       " 'ny-state-house-general-district-049-2020-11-03',\n",
       " 'ny-state-house-general-district-050-2020-11-03',\n",
       " 'ny-state-house-general-district-051-2020-11-03',\n",
       " 'ny-state-house-general-district-052-2020-11-03',\n",
       " 'ny-state-house-general-district-053-2020-11-03',\n",
       " 'ny-state-house-general-district-054-2020-11-03',\n",
       " 'ny-state-house-general-district-055-2020-11-03',\n",
       " 'ny-state-house-general-district-056-2020-11-03',\n",
       " 'ny-state-house-general-district-057-2020-11-03',\n",
       " 'ny-state-house-general-district-058-2020-11-03',\n",
       " 'ny-state-house-general-district-059-2020-11-03',\n",
       " 'ny-state-house-general-district-060-2020-11-03',\n",
       " 'ny-state-house-general-district-061-2020-11-03',\n",
       " 'ny-state-house-general-district-062-2020-11-03',\n",
       " 'ny-state-house-general-district-063-2020-11-03',\n",
       " 'ny-state-house-general-district-064-2020-11-03',\n",
       " 'ny-state-house-general-district-065-2020-11-03',\n",
       " 'ny-state-house-general-district-066-2020-11-03',\n",
       " 'ny-state-house-general-district-067-2020-11-03',\n",
       " 'ny-state-house-general-district-068-2020-11-03',\n",
       " 'ny-state-house-general-district-069-2020-11-03',\n",
       " 'ny-state-house-general-district-070-2020-11-03',\n",
       " 'ny-state-house-general-district-071-2020-11-03',\n",
       " 'ny-state-house-general-district-072-2020-11-03',\n",
       " 'ny-state-house-general-district-073-2020-11-03',\n",
       " 'ny-state-house-general-district-074-2020-11-03',\n",
       " 'ny-state-house-general-district-075-2020-11-03',\n",
       " 'ny-state-house-general-district-076-2020-11-03',\n",
       " 'ny-state-house-general-district-077-2020-11-03',\n",
       " 'ny-state-house-general-district-078-2020-11-03',\n",
       " 'ny-state-house-general-district-079-2020-11-03',\n",
       " 'ny-state-house-general-district-080-2020-11-03',\n",
       " 'ny-state-house-general-district-081-2020-11-03',\n",
       " 'ny-state-house-general-district-082-2020-11-03',\n",
       " 'ny-state-house-general-district-083-2020-11-03',\n",
       " 'ny-state-house-general-district-084-2020-11-03',\n",
       " 'ny-state-house-general-district-085-2020-11-03',\n",
       " 'ny-state-house-general-district-086-2020-11-03',\n",
       " 'ny-state-house-general-district-087-2020-11-03',\n",
       " 'ny-state-house-general-district-088-2020-11-03',\n",
       " 'ny-state-house-general-district-089-2020-11-03',\n",
       " 'ny-state-house-general-district-090-2020-11-03',\n",
       " 'ny-state-house-general-district-091-2020-11-03',\n",
       " 'ny-state-house-general-district-092-2020-11-03',\n",
       " 'ny-state-house-general-district-093-2020-11-03',\n",
       " 'ny-state-house-general-district-094-2020-11-03',\n",
       " 'ny-state-house-general-district-095-2020-11-03',\n",
       " 'ny-state-house-general-district-096-2020-11-03',\n",
       " 'ny-state-house-general-district-097-2020-11-03',\n",
       " 'ny-state-house-general-district-098-2020-11-03',\n",
       " 'ny-state-house-general-district-099-2020-11-03',\n",
       " 'ny-state-house-general-district-100-2020-11-03',\n",
       " 'ny-state-house-general-district-101-2020-11-03',\n",
       " 'ny-state-house-general-district-102-2020-11-03',\n",
       " 'ny-state-house-general-district-103-2020-11-03',\n",
       " 'ny-state-house-general-district-104-2020-11-03',\n",
       " 'ny-state-house-general-district-105-2020-11-03',\n",
       " 'ny-state-house-general-district-106-2020-11-03',\n",
       " 'ny-state-house-general-district-107-2020-11-03',\n",
       " 'ny-state-house-general-district-108-2020-11-03',\n",
       " 'ny-state-house-general-district-109-2020-11-03',\n",
       " 'ny-state-house-general-district-110-2020-11-03',\n",
       " 'ny-state-house-general-district-111-2020-11-03',\n",
       " 'ny-state-house-general-district-112-2020-11-03',\n",
       " 'ny-state-house-general-district-113-2020-11-03',\n",
       " 'ny-state-house-general-district-114-2020-11-03',\n",
       " 'ny-state-house-general-district-115-2020-11-03',\n",
       " 'ny-state-house-general-district-116-2020-11-03',\n",
       " 'ny-state-house-general-district-117-2020-11-03',\n",
       " 'ny-state-house-general-district-118-2020-11-03',\n",
       " 'ny-state-house-general-district-119-2020-11-03',\n",
       " 'ny-state-house-general-district-120-2020-11-03',\n",
       " 'ny-state-house-general-district-121-2020-11-03',\n",
       " 'ny-state-house-general-district-122-2020-11-03',\n",
       " 'ny-state-house-general-district-123-2020-11-03',\n",
       " 'ny-state-house-general-district-124-2020-11-03',\n",
       " 'ny-state-house-general-district-125-2020-11-03',\n",
       " 'ny-state-house-general-district-126-2020-11-03',\n",
       " 'ny-state-house-general-district-127-2020-11-03',\n",
       " 'ny-state-house-general-district-128-2020-11-03',\n",
       " 'ny-state-house-general-district-129-2020-11-03',\n",
       " 'ny-state-house-general-district-130-2020-11-03',\n",
       " 'ny-state-house-general-district-131-2020-11-03',\n",
       " 'ny-state-house-general-district-132-2020-11-03',\n",
       " 'ny-state-house-general-district-133-2020-11-03',\n",
       " 'ny-state-house-general-district-134-2020-11-03',\n",
       " 'ny-state-house-general-district-135-2020-11-03',\n",
       " 'ny-state-house-general-district-136-2020-11-03',\n",
       " 'ny-state-house-general-district-137-2020-11-03',\n",
       " 'ny-state-house-general-district-138-2020-11-03',\n",
       " 'ny-state-house-general-district-139-2020-11-03',\n",
       " 'ny-state-house-general-district-140-2020-11-03',\n",
       " 'ny-state-house-general-district-141-2020-11-03',\n",
       " 'ny-state-house-general-district-142-2020-11-03',\n",
       " 'ny-state-house-general-district-143-2020-11-03',\n",
       " 'ny-state-house-general-district-144-2020-11-03',\n",
       " 'ny-state-house-general-district-145-2020-11-03',\n",
       " 'ny-state-house-general-district-146-2020-11-03',\n",
       " 'ny-state-house-general-district-147-2020-11-03',\n",
       " 'ny-state-house-general-district-148-2020-11-03',\n",
       " 'ny-state-house-general-district-149-2020-11-03',\n",
       " 'ny-state-house-general-district-150-2020-11-03',\n",
       " 'ny-state-senate-general-district-001-2020-11-03',\n",
       " 'ny-state-senate-general-district-002-2020-11-03',\n",
       " 'ny-state-senate-general-district-003-2020-11-03',\n",
       " 'ny-state-senate-general-district-004-2020-11-03',\n",
       " 'ny-state-senate-general-district-005-2020-11-03',\n",
       " 'ny-state-senate-general-district-006-2020-11-03',\n",
       " 'ny-state-senate-general-district-007-2020-11-03',\n",
       " 'ny-state-senate-general-district-008-2020-11-03',\n",
       " 'ny-state-senate-general-district-009-2020-11-03',\n",
       " 'ny-state-senate-general-district-010-2020-11-03',\n",
       " 'ny-state-senate-general-district-011-2020-11-03',\n",
       " 'ny-state-senate-general-district-012-2020-11-03',\n",
       " 'ny-state-senate-general-district-013-2020-11-03',\n",
       " 'ny-state-senate-general-district-014-2020-11-03',\n",
       " 'ny-state-senate-general-district-015-2020-11-03',\n",
       " 'ny-state-senate-general-district-016-2020-11-03',\n",
       " 'ny-state-senate-general-district-017-2020-11-03',\n",
       " 'ny-state-senate-general-district-018-2020-11-03',\n",
       " 'ny-state-senate-general-district-019-2020-11-03',\n",
       " 'ny-state-senate-general-district-020-2020-11-03',\n",
       " 'ny-state-senate-general-district-021-2020-11-03',\n",
       " 'ny-state-senate-general-district-022-2020-11-03',\n",
       " 'ny-state-senate-general-district-023-2020-11-03',\n",
       " 'ny-state-senate-general-district-024-2020-11-03',\n",
       " 'ny-state-senate-general-district-025-2020-11-03',\n",
       " 'ny-state-senate-general-district-026-2020-11-03',\n",
       " 'ny-state-senate-general-district-027-2020-11-03',\n",
       " 'ny-state-senate-general-district-028-2020-11-03',\n",
       " 'ny-state-senate-general-district-029-2020-11-03',\n",
       " 'ny-state-senate-general-district-030-2020-11-03',\n",
       " 'ny-state-senate-general-district-031-2020-11-03',\n",
       " 'ny-state-senate-general-district-032-2020-11-03',\n",
       " 'ny-state-senate-general-district-033-2020-11-03',\n",
       " 'ny-state-senate-general-district-034-2020-11-03',\n",
       " 'ny-state-senate-general-district-035-2020-11-03',\n",
       " 'ny-state-senate-general-district-036-2020-11-03',\n",
       " 'ny-state-senate-general-district-037-2020-11-03',\n",
       " 'ny-state-senate-general-district-038-2020-11-03',\n",
       " 'ny-state-senate-general-district-039-2020-11-03',\n",
       " 'ny-state-senate-general-district-040-2020-11-03',\n",
       " 'ny-state-senate-general-district-041-2020-11-03',\n",
       " 'ny-state-senate-general-district-042-2020-11-03',\n",
       " 'ny-state-senate-general-district-043-2020-11-03',\n",
       " 'ny-state-senate-general-district-044-2020-11-03',\n",
       " 'ny-state-senate-general-district-045-2020-11-03',\n",
       " 'ny-state-senate-general-district-046-2020-11-03',\n",
       " 'ny-state-senate-general-district-047-2020-11-03',\n",
       " 'ny-state-senate-general-district-048-2020-11-03',\n",
       " 'ny-state-senate-general-district-049-2020-11-03',\n",
       " 'ny-state-senate-general-district-050-2020-11-03',\n",
       " 'ny-state-senate-general-district-051-2020-11-03',\n",
       " 'ny-state-senate-general-district-052-2020-11-03',\n",
       " 'ny-state-senate-general-district-053-2020-11-03',\n",
       " 'ny-state-senate-general-district-054-2020-11-03',\n",
       " 'ny-state-senate-general-district-055-2020-11-03',\n",
       " 'ny-state-senate-general-district-056-2020-11-03',\n",
       " 'ny-state-senate-general-district-057-2020-11-03',\n",
       " 'ny-state-senate-general-district-058-2020-11-03',\n",
       " 'ny-state-senate-general-district-059-2020-11-03',\n",
       " 'ny-state-senate-general-district-060-2020-11-03',\n",
       " 'ny-state-senate-general-district-061-2020-11-03',\n",
       " 'ny-state-senate-general-district-062-2020-11-03',\n",
       " 'ny-state-senate-general-district-063-2020-11-03'}"
      ]
     },
     "execution_count": 97,
     "metadata": {},
     "output_type": "execute_result"
    }
   ],
   "source": [
    "set(x['race_slug'] for x in data['data']['races'])"
   ]
  },
  {
   "cell_type": "code",
   "execution_count": 96,
   "metadata": {
    "ExecuteTime": {
     "end_time": "2020-11-06T22:50:38.999711Z",
     "start_time": "2020-11-06T22:50:38.973830Z"
    }
   },
   "outputs": [
    {
     "data": {
      "text/plain": [
       "(242, 242)"
      ]
     },
     "execution_count": 96,
     "metadata": {},
     "output_type": "execute_result"
    }
   ],
   "source": [
    "len(set(x['race_slug'] for x in data['data']['races'])), len(data['data']['races'])"
   ]
  },
  {
   "cell_type": "code",
   "execution_count": null,
   "metadata": {},
   "outputs": [],
   "source": []
  }
 ],
 "metadata": {
  "kernelspec": {
   "display_name": "Python 3",
   "language": "python",
   "name": "python3"
  },
  "language_info": {
   "codemirror_mode": {
    "name": "ipython",
    "version": 3
   },
   "file_extension": ".py",
   "mimetype": "text/x-python",
   "name": "python",
   "nbconvert_exporter": "python",
   "pygments_lexer": "ipython3",
   "version": "3.8.6"
  },
  "latex_envs": {
   "LaTeX_envs_menu_present": true,
   "autoclose": false,
   "autocomplete": true,
   "bibliofile": "biblio.bib",
   "cite_by": "apalike",
   "current_citInitial": 1,
   "eqLabelWithNumbers": true,
   "eqNumInitial": 1,
   "hotkeys": {
    "equation": "Ctrl-E",
    "itemize": "Ctrl-I"
   },
   "labels_anchors": false,
   "latex_user_defs": false,
   "report_style_numbering": false,
   "user_envs_cfg": false
  },
  "toc": {
   "base_numbering": 1,
   "nav_menu": {},
   "number_sections": true,
   "sideBar": false,
   "skip_h1_title": false,
   "title_cell": "Table of Contents",
   "title_sidebar": "Contents",
   "toc_cell": true,
   "toc_position": {
    "height": "110px",
    "left": "27px",
    "top": "110px",
    "width": "694px"
   },
   "toc_section_display": true,
   "toc_window_display": true
  }
 },
 "nbformat": 4,
 "nbformat_minor": 4
}
